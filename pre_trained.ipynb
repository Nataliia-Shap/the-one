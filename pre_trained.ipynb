{
  "nbformat": 4,
  "nbformat_minor": 0,
  "metadata": {
    "colab": {
      "name": "pre-trained",
      "provenance": [],
      "collapsed_sections": [],
      "mount_file_id": "1HNWYIwfVv03ePK8uOKZ7bOCtUkwvOT8T",
      "authorship_tag": "ABX9TyMKjR1sCeehCKVvYrvqdZDS",
      "include_colab_link": true
    },
    "kernelspec": {
      "name": "python3",
      "display_name": "Python 3"
    },
    "language_info": {
      "name": "python"
    },
    "accelerator": "GPU"
  },
  "cells": [
    {
      "cell_type": "markdown",
      "metadata": {
        "id": "view-in-github",
        "colab_type": "text"
      },
      "source": [
        "<a href=\"https://colab.research.google.com/github/Nataliia-Shap/the-one/blob/main/pre_trained.ipynb\" target=\"_parent\"><img src=\"https://colab.research.google.com/assets/colab-badge.svg\" alt=\"Open In Colab\"/></a>"
      ]
    },
    {
      "cell_type": "code",
      "metadata": {
        "colab": {
          "base_uri": "https://localhost:8080/"
        },
        "id": "XMT9bsZFC3fj",
        "outputId": "c786d038-2b72-48ad-9fb9-76a4127d3933"
      },
      "source": [
        "from keras.preprocessing.image import ImageDataGenerator\n",
        "\n",
        "datagen = ImageDataGenerator(\n",
        "        rotation_range=40,\n",
        "        width_shift_range=0.2,\n",
        "        height_shift_range=0.2,\n",
        "        rescale=1./255,\n",
        "        shear_range=0.2,\n",
        "        zoom_range=0.2,\n",
        "        horizontal_flip=True,\n",
        "        fill_mode='nearest')\n",
        "from keras.preprocessing.image import ImageDataGenerator, array_to_img, img_to_array, load_img\n",
        "\n",
        "datagen = ImageDataGenerator(\n",
        "        rotation_range=40,\n",
        "        width_shift_range=0.2,\n",
        "        height_shift_range=0.2,\n",
        "        shear_range=0.2,\n",
        "        zoom_range=0.2,\n",
        "        horizontal_flip=True,\n",
        "        fill_mode='nearest')\n",
        "from keras.models import Sequential\n",
        "from keras.layers import Conv2D, MaxPooling2D\n",
        "from keras.layers import Activation, Dropout, Flatten, Dense\n",
        "\n",
        "model = Sequential()\n",
        "model.add(Conv2D(32, (3, 3), input_shape=(150,150,3)))\n",
        "model.add(Activation('relu'))\n",
        "model.add(MaxPooling2D(pool_size=(2, 2)))\n",
        "\n",
        "model.add(Conv2D(32, (3, 3)))\n",
        "model.add(Activation('relu'))\n",
        "model.add(MaxPooling2D(pool_size=(2, 2)))\n",
        "\n",
        "model.add(Conv2D(64, (3, 3)))\n",
        "model.add(Activation('relu'))\n",
        "model.add(MaxPooling2D(pool_size=(2, 2)))\n",
        "\n",
        "# the model so far outputs 3D feature maps (height, width, features)\n",
        "model.add(Flatten())  # this converts our 3D feature maps to 1D feature vectors\n",
        "model.add(Dense(64))\n",
        "model.add(Activation('relu'))\n",
        "model.add(Dropout(0.5))\n",
        "model.add(Dense(1))\n",
        "model.add(Activation('sigmoid'))\n",
        "\n",
        "model.compile(loss='binary_crossentropy',\n",
        "              optimizer='rmsprop',\n",
        "              metrics=['accuracy'])\n",
        "batch_size = 6 #16\n",
        "\n",
        "# this is the augmentation configuration we will use for training\n",
        "train_datagen = ImageDataGenerator(\n",
        "        rescale=1./255,\n",
        "        shear_range=0.2,\n",
        "        zoom_range=0.2,\n",
        "        horizontal_flip=True)\n",
        "\n",
        "# this is the augmentation configuration we will use for testing:\n",
        "# only rescaling\n",
        "test_datagen = ImageDataGenerator(rescale=1./255)\n",
        "\n",
        "# this is a generator that will read pictures found in\n",
        "# subfolers of 'data/train', and indefinitely generate\n",
        "# batches of augmented image data\n",
        "train_generator = train_datagen.flow_from_directory(\n",
        "        '/content/drive/My Drive/Colab Notebooks/train',  # this is the target directory 'data/train'\n",
        "        target_size=(150, 150),  # all images will be resized to 150x150\n",
        "        batch_size=batch_size,\n",
        "        class_mode='binary')  # since we use binary_crossentropy loss, we need binary labels\n",
        "\n",
        "# this is a similar generator, for validation data\n",
        "validation_generator = test_datagen.flow_from_directory(\n",
        "        '/content/drive/My Drive/Colab Notebooks/validation',#'data/validation',\n",
        "        target_size=(150, 150),\n",
        "        batch_size=batch_size,\n",
        "        class_mode='binary')\n",
        "model.fit_generator(\n",
        "        train_generator,\n",
        "        steps_per_epoch=1000 // batch_size, #2000\n",
        "        epochs=14,#50\n",
        "        validation_data=validation_generator,\n",
        "        validation_steps=400 // batch_size) #800\n",
        "model.save_weights('first_try.h5')  # always save your weights after training or during training"
      ],
      "execution_count": 4,
      "outputs": [
        {
          "output_type": "stream",
          "name": "stdout",
          "text": [
            "Found 3821 images belonging to 2 classes.\n",
            "Found 399 images belonging to 2 classes.\n"
          ]
        },
        {
          "output_type": "stream",
          "name": "stderr",
          "text": [
            "/usr/local/lib/python3.7/dist-packages/keras/engine/training.py:1972: UserWarning: `Model.fit_generator` is deprecated and will be removed in a future version. Please use `Model.fit`, which supports generators.\n",
            "  warnings.warn('`Model.fit_generator` is deprecated and '\n"
          ]
        },
        {
          "output_type": "stream",
          "name": "stdout",
          "text": [
            "Epoch 1/14\n",
            "166/166 [==============================] - 24s 140ms/step - loss: 0.5541 - accuracy: 0.7176 - val_loss: 0.4360 - val_accuracy: 0.7929\n",
            "Epoch 2/14\n",
            "166/166 [==============================] - 24s 143ms/step - loss: 0.3120 - accuracy: 0.8704 - val_loss: 0.4716 - val_accuracy: 0.8030\n",
            "Epoch 3/14\n",
            "166/166 [==============================] - 25s 150ms/step - loss: 0.2622 - accuracy: 0.9015 - val_loss: 0.4842 - val_accuracy: 0.8005\n",
            "Epoch 4/14\n",
            "166/166 [==============================] - 24s 145ms/step - loss: 0.2658 - accuracy: 0.9206 - val_loss: 0.1822 - val_accuracy: 0.9217\n",
            "Epoch 5/14\n",
            "166/166 [==============================] - 24s 146ms/step - loss: 0.2266 - accuracy: 0.9176 - val_loss: 0.1409 - val_accuracy: 0.9470\n",
            "Epoch 6/14\n",
            "166/166 [==============================] - 24s 144ms/step - loss: 0.2229 - accuracy: 0.9227 - val_loss: 0.1354 - val_accuracy: 0.9495\n",
            "Epoch 7/14\n",
            "166/166 [==============================] - 23s 141ms/step - loss: 0.1825 - accuracy: 0.9327 - val_loss: 0.2003 - val_accuracy: 0.9268\n",
            "Epoch 8/14\n",
            "166/166 [==============================] - 24s 144ms/step - loss: 0.1561 - accuracy: 0.9327 - val_loss: 0.1434 - val_accuracy: 0.9444\n",
            "Epoch 9/14\n",
            "166/166 [==============================] - 24s 142ms/step - loss: 0.1454 - accuracy: 0.9548 - val_loss: 0.2265 - val_accuracy: 0.9293\n",
            "Epoch 10/14\n",
            "166/166 [==============================] - 23s 141ms/step - loss: 0.1673 - accuracy: 0.9538 - val_loss: 0.1296 - val_accuracy: 0.9318\n",
            "Epoch 11/14\n",
            "166/166 [==============================] - 24s 141ms/step - loss: 0.1610 - accuracy: 0.9508 - val_loss: 0.1048 - val_accuracy: 0.9646\n",
            "Epoch 12/14\n",
            "166/166 [==============================] - 24s 143ms/step - loss: 0.1534 - accuracy: 0.9498 - val_loss: 0.2950 - val_accuracy: 0.9192\n",
            "Epoch 13/14\n",
            "166/166 [==============================] - 23s 141ms/step - loss: 0.1712 - accuracy: 0.9397 - val_loss: 0.0820 - val_accuracy: 0.9747\n",
            "Epoch 14/14\n",
            "166/166 [==============================] - 23s 138ms/step - loss: 0.1473 - accuracy: 0.9528 - val_loss: 0.1088 - val_accuracy: 0.9596\n"
          ]
        }
      ]
    }
  ]
}