{
  "nbformat": 4,
  "nbformat_minor": 0,
  "metadata": {
    "colab": {
      "name": "pre-trainedvgg",
      "provenance": [],
      "mount_file_id": "1z-orUVyBwdVART7rXQcXxazJNPzW88hz",
      "authorship_tag": "ABX9TyMxOvnXXJcGX9g4xJ3bDvmX",
      "include_colab_link": true
    },
    "kernelspec": {
      "name": "python3",
      "display_name": "Python 3"
    },
    "language_info": {
      "name": "python"
    },
    "accelerator": "GPU"
  },
  "cells": [
    {
      "cell_type": "markdown",
      "metadata": {
        "id": "view-in-github",
        "colab_type": "text"
      },
      "source": [
        "<a href=\"https://colab.research.google.com/github/Nataliia-Shap/the-one/blob/main/pre_trainedvgg.ipynb\" target=\"_parent\"><img src=\"https://colab.research.google.com/assets/colab-badge.svg\" alt=\"Open In Colab\"/></a>"
      ]
    },
    {
      "cell_type": "code",
      "metadata": {
        "colab": {
          "base_uri": "https://localhost:8080/"
        },
        "id": "XMT9bsZFC3fj",
        "outputId": "005c6f7a-03ab-4f26-e295-9fe6acb294a8"
      },
      "source": [
        "from keras.preprocessing.image import ImageDataGenerator\n",
        "from tensorflow import keras\n",
        "datagen = ImageDataGenerator(\n",
        "        rotation_range=40,\n",
        "        width_shift_range=0.2,\n",
        "        height_shift_range=0.2,\n",
        "        rescale=1./255,\n",
        "        shear_range=0.2,\n",
        "        zoom_range=0.2,\n",
        "        horizontal_flip=True,\n",
        "        fill_mode='nearest')\n",
        "from keras.preprocessing.image import ImageDataGenerator, array_to_img, img_to_array, load_img\n",
        "\n",
        "datagen = ImageDataGenerator(\n",
        "        rotation_range=40,\n",
        "        width_shift_range=0.2,\n",
        "        height_shift_range=0.2,\n",
        "        shear_range=0.2,\n",
        "        zoom_range=0.2,\n",
        "        horizontal_flip=True,\n",
        "        fill_mode='nearest')\n",
        "from keras.models import Sequential\n",
        "from keras.layers import Conv2D, MaxPooling2D\n",
        "from keras.layers import Activation, Dropout, Flatten, Dense\n",
        "from keras.applications.xception import Xception \n",
        "from keras.applications.xception import preprocess_input\n",
        "from keras.applications.xception import decode_predictions\n",
        "base_model = Xception(\n",
        "    weights='imagenet',  # Load weights pre-trained on ImageNet.\n",
        "    input_shape=(150, 150, 3),\n",
        "    include_top=False)  # Do not include the ImageNet classifier at the top.\n",
        "\n",
        "base_model.trainable = False\n",
        "\n",
        "inputs = keras.Input(shape=(150, 150, 3))\n",
        "# We make sure that the base_model is running in inference mode here,\n",
        "# by passing `training=False`. This is important for fine-tuning, as you will\n",
        "# learn in a few paragraphs.\n",
        "x = base_model(inputs, training=False)\n",
        "# Convert features of shape `base_model.output_shape[1:]` to vectors\n",
        "x = keras.layers.GlobalAveragePooling2D()(x)\n",
        "# A Dense classifier with a single unit (binary classification)\n",
        "outputs = keras.layers.Dense(1)(x)\n",
        "model = keras.Model(inputs, outputs)\n",
        "\n",
        "model.compile(loss='binary_crossentropy',\n",
        "              optimizer='rmsprop',\n",
        "              metrics=['accuracy'])\n",
        "\n",
        "#model.compile(optimizer=keras.optimizers.Adam(),\n",
        "#              loss=keras.losses.BinaryCrossentropy(from_logits=True),\n",
        "#              metrics=[keras.metrics.BinaryAccuracy()])\n",
        "\n",
        "#model.fit(new_dataset, epochs=10, callbacks=..., validation_data=...)\n",
        "\n",
        "batch_size = 6 #16\n",
        "\n",
        "# this is the augmentation configuration we will use for training\n",
        "train_datagen = ImageDataGenerator(\n",
        "        rescale=1./255,\n",
        "        shear_range=0.2,\n",
        "        zoom_range=0.2,\n",
        "        horizontal_flip=True)\n",
        "\n",
        "# this is the augmentation configuration we will use for testing:\n",
        "# only rescaling\n",
        "test_datagen = ImageDataGenerator(rescale=1./255)\n",
        "\n",
        "# this is a generator that will read pictures found in\n",
        "# subfolers of 'data/train', and indefinitely generate\n",
        "# batches of augmented image data\n",
        "train_generator = train_datagen.flow_from_directory(\n",
        "        '/content/drive/My Drive/Colab Notebooks/train',  # this is the target directory 'data/train'\n",
        "        target_size=(150, 150),  # all images will be resized to 150x150\n",
        "        batch_size=batch_size,\n",
        "        class_mode='binary')  # since we use binary_crossentropy loss, we need binary labels\n",
        "\n",
        "# this is a similar generator, for validation data\n",
        "validation_generator = test_datagen.flow_from_directory(\n",
        "        '/content/drive/My Drive/Colab Notebooks/validation',#'data/validation',\n",
        "        target_size=(150, 150),\n",
        "        batch_size=batch_size,\n",
        "        class_mode='binary')\n",
        "model.fit_generator(\n",
        "        train_generator,\n",
        "        steps_per_epoch=800 // batch_size, #2000\n",
        "        epochs=5,#50\n",
        "        validation_data=validation_generator,\n",
        "        validation_steps=300 // batch_size) #800\n",
        "model.save_weights('first_try.h5')  # always save your weights after training or during training"
      ],
      "execution_count": 2,
      "outputs": [
        {
          "output_type": "stream",
          "name": "stdout",
          "text": [
            "Found 3821 images belonging to 2 classes.\n",
            "Found 399 images belonging to 2 classes.\n"
          ]
        },
        {
          "output_type": "stream",
          "name": "stderr",
          "text": [
            "/usr/local/lib/python3.7/dist-packages/keras/engine/training.py:1972: UserWarning: `Model.fit_generator` is deprecated and will be removed in a future version. Please use `Model.fit`, which supports generators.\n",
            "  warnings.warn('`Model.fit_generator` is deprecated and '\n"
          ]
        },
        {
          "output_type": "stream",
          "name": "stdout",
          "text": [
            "Epoch 1/5\n",
            "133/133 [==============================] - 417s 3s/step - loss: 0.1343 - accuracy: 0.9799 - val_loss: 0.0632 - val_accuracy: 0.9900\n",
            "Epoch 2/5\n",
            "133/133 [==============================] - 300s 2s/step - loss: 0.0632 - accuracy: 0.9950 - val_loss: 0.1116 - val_accuracy: 0.9867\n",
            "Epoch 3/5\n",
            "133/133 [==============================] - 271s 2s/step - loss: 0.0469 - accuracy: 0.9950 - val_loss: 0.0573 - val_accuracy: 0.9933\n",
            "Epoch 4/5\n",
            "133/133 [==============================] - 224s 2s/step - loss: 0.0234 - accuracy: 0.9962 - val_loss: 9.4403e-04 - val_accuracy: 1.0000\n",
            "Epoch 5/5\n",
            "133/133 [==============================] - 176s 1s/step - loss: 0.0436 - accuracy: 0.9950 - val_loss: 0.0526 - val_accuracy: 0.9967\n"
          ]
        }
      ]
    }
  ]
}